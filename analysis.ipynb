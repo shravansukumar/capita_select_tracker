{
 "cells": [
  {
   "cell_type": "code",
   "execution_count": 66,
   "metadata": {},
   "outputs": [],
   "source": [
    "import json\n",
    "from tld import get_fld\n",
    "import csv\n",
    "import os.path\n",
    "import numpy as np\n",
    "import matplotlib.pyplot as plt\n"
   ]
  },
  {
   "cell_type": "code",
   "execution_count": 20,
   "metadata": {},
   "outputs": [],
   "source": [
    "page_load_time_desktop=[]\n",
    "page_load_time_mobile=[]\n",
    "num_requests_desktop=[]\n",
    "num_requests_mobile=[]\n",
    "num_third_parties_desktop=[]\n",
    "num_third_parties_mobile=[]\n",
    "num_trackers_domain_desktop=[]\n",
    "num_trackers_domain_mobile=[]\n",
    "num_trackers_ent_desktop=[]\n",
    "num_trackers_ent_mobile=[]\n",
    "\n",
    "\n"
   ]
  },
  {
   "cell_type": "code",
   "execution_count": 21,
   "metadata": {},
   "outputs": [],
   "source": [
    "#load the disconnect blocklist as top level domains\n",
    "f = open('services.json') \n",
    "disconnect = json.load(f) \n",
    "disconnect=disconnect['categories']\n",
    "disconnect_blocklist=[]\n",
    "for entry in disconnect:\n",
    "    domain_list=disconnect[entry]\n",
    "    for item in domain_list:\n",
    "        keys=item.keys()\n",
    "        for key, value in item.items():\n",
    "            for inner_key,inner_value in value.items():\n",
    "                for element in inner_value:\n",
    "                    if len(element)>1:\n",
    "                        disconnect_blocklist.append(element)\n",
    "\n",
    "\n"
   ]
  },
  {
   "cell_type": "code",
   "execution_count": 22,
   "metadata": {},
   "outputs": [],
   "source": [
    "f = open('domain_map.json') \n",
    "domain_map = json.load(f) "
   ]
  },
  {
   "cell_type": "code",
   "execution_count": 23,
   "metadata": {},
   "outputs": [],
   "source": [
    "def get_page_load_time(website):\n",
    "    start_time=website['pageload_start_ts']\n",
    "    end_time=website['pageload_end_ts']\n",
    "    return end_time-start_time"
   ]
  },
  {
   "cell_type": "code",
   "execution_count": 24,
   "metadata": {},
   "outputs": [],
   "source": [
    "def get_num_requests(website):\n",
    "    return len(website['requests'])\n"
   ]
  },
  {
   "cell_type": "code",
   "execution_count": 25,
   "metadata": {},
   "outputs": [],
   "source": [
    "def get_third_parties(website):\n",
    "    third_party_domains=set()\n",
    "    first_domain=website['domain']\n",
    "    for req in website['requests']:\n",
    "        req_domain=get_fld(req['request_url'])\n",
    "        if (req_domain!=first_domain):\n",
    "            third_party_domains.add(req_domain)\n",
    "    third_party_domains=list(third_party_domains)\n",
    "    return third_party_domains"
   ]
  },
  {
   "cell_type": "code",
   "execution_count": 26,
   "metadata": {},
   "outputs": [],
   "source": [
    "def get_tracker_domains(third_party_list):\n",
    "    tracker_domains=set()\n",
    "    for item in third_party_list:\n",
    "        if item in disconnect_blocklist:\n",
    "            tracker_domains.add(item)\n",
    "    tracker_domains_to_list=(list)(tracker_domains)\n",
    "    return tracker_domains_to_list"
   ]
  },
  {
   "cell_type": "code",
   "execution_count": 27,
   "metadata": {},
   "outputs": [],
   "source": [
    "def get_tracker_entity (tracker_name):\n",
    "    if tracker_name in domain_map.keys():\n",
    "        return domain_map[tracker_name]['entityName']\n",
    "    else:\n",
    "        return \"not found\"\n",
    "        "
   ]
  },
  {
   "cell_type": "code",
   "execution_count": 50,
   "metadata": {},
   "outputs": [
    {
     "name": "stdout",
     "output_type": "stream",
     "text": [
      "500\n"
     ]
    }
   ],
   "source": [
    "urls=[]\n",
    "tranco_rank=[]\n",
    "with open('tranco-top-500-safe.csv') as file:\n",
    "                data = csv.reader(file,delimiter=',')\n",
    "                for url_data in data:\n",
    "                    urls.append(url_data[1])\n",
    "                    tranco_rank.append(url_data[0])\n",
    "urls.remove(\"domain\")\n",
    "tranco_rank.remove(\"tranco_rank\")"
   ]
  },
  {
   "cell_type": "code",
   "execution_count": 59,
   "metadata": {},
   "outputs": [],
   "source": [
    "def get_crawl_data(type):\n",
    "    for entry in urls:\n",
    "        file_name=entry+'_'+type+'.json'\n",
    "        if (os.path.exists(file_name)):\n",
    "            current= open(file_name) \n",
    "            website_dict = json.load(current)\n",
    "            page_load=get_page_load_time(website_dict)\n",
    "            req_count=get_num_requests(website_dict)\n",
    "            third_parties=get_third_parties(website_dict)\n",
    "            tracker_entities=set()\n",
    "            tracker_domains=get_tracker_domains(third_parties)\n",
    "            for tracker in tracker_domains:\n",
    "                tracker_entities.add(get_tracker_entity(tracker))\n",
    "            tracker_entities=list(tracker_entities)\n",
    "            if (type=='desktop'):\n",
    "                page_load_time_desktop.append(page_load)\n",
    "                num_requests_desktop.append(req_count)\n",
    "                num_third_parties_desktop.append(len(third_parties))\n",
    "                num_trackers_domain_desktop.append(len(tracker_domains))\n",
    "                num_trackers_ent_desktop.append(len(tracker_entities))\n",
    "            else: \n",
    "                page_load_time_mobile.append(page_load)\n",
    "                num_requests_mobile.append(req_count)\n",
    "                num_third_parties_mobile.append(len(third_parties))\n",
    "                num_trackers_domain_mobile.append(len(tracker_domains))\n",
    "                num_trackers_ent_mobile.append(len(tracker_entities))\n"
   ]
  },
  {
   "cell_type": "code",
   "execution_count": 69,
   "metadata": {},
   "outputs": [],
   "source": [
    "def generate_box_plot(data_desktop,data_mobile,plot_name):\n",
    "    data= [data_desktop, data_mobile]\n",
    "    label = ['crawl desktop', 'crawl mobile']\n",
    "    fig, (ax1) = plt.subplots(nrows=1, figsize=(9, 4))\n",
    "\n",
    "    bplot = ax1.boxplot(data,\n",
    "                    vert=True,  # vertical box alignment\n",
    "                     patch_artist=True,  # fill with color\n",
    "                     labels=label)  # will be used to label x-ticks\n",
    "    colors = ['pink', 'lightblue']\n",
    "    for patch, color in zip(bplot['boxes'], colors):\n",
    "        patch.set_facecolor(color)\n",
    "\n",
    "    ax1.yaxis.grid(True)\n",
    "    ax1.set_xlabel('type')\n",
    "    ax1.set_ylabel('Observed values')\n",
    "    ax1.set_title(plot_name)\n",
    "\n",
    "    plt.savefig(plot_name+'.png')\n",
    "    plt.show()\n"
   ]
  },
  {
   "cell_type": "code",
   "execution_count": 70,
   "metadata": {},
   "outputs": [
    {
     "data": {
      "image/png": "[encoded data removed]",
      "text/plain": [
       "<Figure size 648x288 with 1 Axes>"
      ]
     },
     "metadata": {
      "needs_background": "light"
     },
     "output_type": "display_data"
    }
   ],
   "source": [
    "data_desktop = [234, 345, 22, 456, 1, 34, 67]\n",
    "data_mobile =[23, 675, 564, 345, 22]\n",
    "generate_box_plot(data_desktop,data_mobile,\"num_requests\")"
   ]
  }
 ],
 "metadata": {
  "interpreter": {
   "hash": "fafde9fe5c2a95c272e146e5cd6a6202b646782439a48b665d8c179bb5a43069"
  },
  "kernelspec": {
   "display_name": "Python 3.8.8 ('base')",
   "language": "python",
   "name": "python3"
  },
  "language_info": {
   "codemirror_mode": {
    "name": "ipython",
    "version": 3
   },
   "file_extension": ".py",
   "mimetype": "text/x-python",
   "name": "python",
   "nbconvert_exporter": "python",
   "pygments_lexer": "ipython3",
   "version": "3.8.8"
  },
  "orig_nbformat": 4
 },
 "nbformat": 4,
 "nbformat_minor": 2
}
