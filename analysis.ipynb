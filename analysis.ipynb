{
 "cells": [
  {
   "cell_type": "code",
   "execution_count": 89,
   "metadata": {},
   "outputs": [],
   "source": [
    "import json\n",
    "from tld import get_fld\n"
   ]
  },
  {
   "cell_type": "code",
   "execution_count": 90,
   "metadata": {},
   "outputs": [],
   "source": [
    "page_load_time_desktop=[]\n",
    "page_load_time_mobile=[]\n",
    "num_requests_desktop=[]\n",
    "num_requests_mobile=[]\n",
    "num_third_parties_desktop=[]\n",
    "num_third_parties_mobile=[]\n",
    "num_trackers_domain_desktop=[]\n",
    "num_trackers_domain_mobile=[]\n",
    "num_trackers_ent_desktop=[]\n",
    "num_trackers_ent_mobile=[]\n",
    "\n",
    "\n"
   ]
  },
  {
   "cell_type": "code",
   "execution_count": 91,
   "metadata": {},
   "outputs": [],
   "source": [
    "#load the disconnect blocklist as top level domains\n",
    "f = open('services.json') \n",
    "disconnect = json.load(f) \n",
    "disconnect=disconnect['categories']\n",
    "disconnect_blocklist=[]\n",
    "for entry in disconnect:\n",
    "    domain_list=disconnect[entry]\n",
    "    for item in domain_list:\n",
    "        keys=item.keys()\n",
    "        for key, value in item.items():\n",
    "            for inner_key,inner_value in value.items():\n",
    "                for element in inner_value:\n",
    "                    if len(element)>1:\n",
    "                        disconnect_blocklist.append(element)\n",
    "\n",
    "\n"
   ]
  },
  {
   "cell_type": "code",
   "execution_count": null,
   "metadata": {},
   "outputs": [],
   "source": []
  },
  {
   "cell_type": "code",
   "execution_count": 92,
   "metadata": {},
   "outputs": [],
   "source": [
    "def get_page_load_time(website):\n",
    "    start_time=website['pageload_start_ts']\n",
    "    end_time=website['pageload_end_ts']\n",
    "    return end_time-start_time"
   ]
  },
  {
   "cell_type": "code",
   "execution_count": 93,
   "metadata": {},
   "outputs": [],
   "source": [
    "def get_num_requests(website):\n",
    "    return len(website['requests'])\n"
   ]
  },
  {
   "cell_type": "code",
   "execution_count": 94,
   "metadata": {},
   "outputs": [],
   "source": [
    "def get_third_parties(website):\n",
    "    third_party_domains=set()\n",
    "    first_domain=website['domain']\n",
    "    for req in website['requests']:\n",
    "        req_domain=get_fld(req['request_url'])\n",
    "        if (req_domain!=first_domain):\n",
    "            third_party_domains.add(req_domain)\n",
    "    return third_party_domains"
   ]
  },
  {
   "cell_type": "code",
   "execution_count": 95,
   "metadata": {},
   "outputs": [],
   "source": [
    "def get_tracker_domains(third_party_list):\n",
    "    tracker_domains=set()\n",
    "    for item in third_party_list:\n",
    "        if item in disconnect_blocklist:\n",
    "            tracker_domains.add(item)\n",
    "    return tracker_domains"
   ]
  },
  {
   "cell_type": "code",
   "execution_count": 96,
   "metadata": {},
   "outputs": [],
   "source": [
    "f = open('facebook.com.json') \n",
    "data = json.load(f) \n"
   ]
  },
  {
   "cell_type": "code",
   "execution_count": 97,
   "metadata": {},
   "outputs": [
    {
     "name": "stdout",
     "output_type": "stream",
     "text": [
      "1.3114988803863525\n",
      "59\n",
      "{'fbsbx.com', 'fbcdn.net', 'optimizationguide-pa.googleapis.com', 'google.com'}\n",
      "{'fbsbx.com', 'fbcdn.net', 'google.com'}\n"
     ]
    }
   ],
   "source": [
    "print (get_page_load_time(data))\n",
    "print (get_num_requests(data))\n",
    "third_parties=get_third_parties(data)\n",
    "print(third_parties)\n",
    "print(get_tracker_domains(third_parties))"
   ]
  }
 ],
 "metadata": {
  "interpreter": {
   "hash": "fafde9fe5c2a95c272e146e5cd6a6202b646782439a48b665d8c179bb5a43069"
  },
  "kernelspec": {
   "display_name": "Python 3.8.8 ('base')",
   "language": "python",
   "name": "python3"
  },
  "language_info": {
   "codemirror_mode": {
    "name": "ipython",
    "version": 3
   },
   "file_extension": ".py",
   "mimetype": "text/x-python",
   "name": "python",
   "nbconvert_exporter": "python",
   "pygments_lexer": "ipython3",
   "version": "3.8.8"
  },
  "orig_nbformat": 4
 },
 "nbformat": 4,
 "nbformat_minor": 2
}
