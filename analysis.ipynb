{
 "cells": [
  {
   "cell_type": "code",
   "execution_count": 29,
   "metadata": {},
   "outputs": [],
   "source": [
    "import json\n",
    "from tld import get_fld\n"
   ]
  },
  {
   "cell_type": "code",
   "execution_count": 30,
   "metadata": {},
   "outputs": [],
   "source": [
    "page_load_time_desktop=[]\n",
    "page_load_time_mobile=[]\n",
    "num_requests_desktop=[]\n",
    "num_requests_mobile=[]\n",
    "num_third_parties_desktop=[]\n",
    "num_third_parties_mobile=[]\n",
    "num_trackers_domain_desktop=[]\n",
    "num_trackers_domain_mobile=[]\n",
    "num_trackers_ent_desktop=[]\n",
    "num_trackers_ent_mobile=[]\n",
    "\n",
    "\n"
   ]
  },
  {
   "cell_type": "code",
   "execution_count": 53,
   "metadata": {},
   "outputs": [
    {
     "ename": "SyntaxError",
     "evalue": "unexpected EOF while parsing (<ipython-input-53-14ddb37b5118>, line 8)",
     "output_type": "error",
     "traceback": [
      "\u001b[0;36m  File \u001b[0;32m\"<ipython-input-53-14ddb37b5118>\"\u001b[0;36m, line \u001b[0;32m8\u001b[0m\n\u001b[0;31m    for item in temp:\u001b[0m\n\u001b[0m                     ^\u001b[0m\n\u001b[0;31mSyntaxError\u001b[0m\u001b[0;31m:\u001b[0m unexpected EOF while parsing\n"
     ]
    }
   ],
   "source": [
    "#load the disconnect blocklist as top level domains\n",
    "f = open('services.json') \n",
    "disconnect = json.load(f) \n",
    "disconnect=disconnect['categories']\n",
    "tracker_domain_list=set()\n",
    "for entry in disconnect:\n",
    "   temp=disconnect[entry]\n",
    "   keys=temp.keys() "
   ]
  },
  {
   "cell_type": "code",
   "execution_count": 31,
   "metadata": {},
   "outputs": [],
   "source": [
    "def get_page_load_time(website):\n",
    "    start_time=website['pageload_start_ts']\n",
    "    end_time=website['pageload_end_ts']\n",
    "    return end_time-start_time"
   ]
  },
  {
   "cell_type": "code",
   "execution_count": 32,
   "metadata": {},
   "outputs": [],
   "source": [
    "def get_num_requests(website):\n",
    "    return len(website['requests'])\n"
   ]
  },
  {
   "cell_type": "code",
   "execution_count": 33,
   "metadata": {},
   "outputs": [],
   "source": [
    "def get_third_parties(website):\n",
    "    third_party_domains=set()\n",
    "    first_domain=website['domain']\n",
    "    for req in website['requests']:\n",
    "        req_domain=get_fld(req['request_url'])\n",
    "        if (req_domain!=first_domain):\n",
    "            third_party_domains.add(req_domain)\n",
    "    return third_party_domains"
   ]
  },
  {
   "cell_type": "code",
   "execution_count": null,
   "metadata": {},
   "outputs": [],
   "source": [
    "def get_tracker_domain():"
   ]
  },
  {
   "cell_type": "code",
   "execution_count": 34,
   "metadata": {},
   "outputs": [],
   "source": [
    "f = open('facebook.com.json') \n",
    "data = json.load(f) \n"
   ]
  },
  {
   "cell_type": "code",
   "execution_count": 35,
   "metadata": {},
   "outputs": [
    {
     "name": "stdout",
     "output_type": "stream",
     "text": [
      "1.3114988803863525\n",
      "59\n",
      "4\n"
     ]
    }
   ],
   "source": [
    "print (get_page_load_time(data))\n",
    "print (get_num_requests(data))\n",
    "print(get_third_parties(data))"
   ]
  }
 ],
 "metadata": {
  "interpreter": {
   "hash": "fafde9fe5c2a95c272e146e5cd6a6202b646782439a48b665d8c179bb5a43069"
  },
  "kernelspec": {
   "display_name": "Python 3.8.8 ('base')",
   "language": "python",
   "name": "python3"
  },
  "language_info": {
   "codemirror_mode": {
    "name": "ipython",
    "version": 3
   },
   "file_extension": ".py",
   "mimetype": "text/x-python",
   "name": "python",
   "nbconvert_exporter": "python",
   "pygments_lexer": "ipython3",
   "version": "3.8.8"
  },
  "orig_nbformat": 4
 },
 "nbformat": 4,
 "nbformat_minor": 2
}
