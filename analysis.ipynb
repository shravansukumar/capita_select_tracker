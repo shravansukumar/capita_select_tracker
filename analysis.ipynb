{
 "cells": [
  {
   "cell_type": "code",
   "execution_count": 149,
   "metadata": {},
   "outputs": [],
   "source": [
    "import json\n",
    "from tld import get_fld\n",
    "import csv\n",
    "import os.path\n",
    "import numpy as np\n",
    "import matplotlib.pyplot as plt\n",
    "from collections import Counter\n"
   ]
  },
  {
   "cell_type": "code",
   "execution_count": 150,
   "metadata": {},
   "outputs": [],
   "source": [
    "page_load_time_desktop=[]\n",
    "page_load_time_mobile=[]\n",
    "num_requests_desktop=[]\n",
    "num_requests_mobile=[]\n",
    "num_third_parties_desktop=[]\n",
    "num_third_parties_mobile=[]\n",
    "num_trackers_domain_desktop=[]\n",
    "num_trackers_domain_mobile=[]\n",
    "num_trackers_ent_desktop=[]\n",
    "num_trackers_ent_mobile=[]\n",
    "\n",
    "\n",
    "third_parties_desktop_list=[]\n",
    "third_parties_mobile_list=[]\n",
    "tracker_domain_desktop_list=[]\n",
    "tracker_domain_mobile_list=[]\n",
    "tracker_ent_desktop_list=[]\n",
    "tracker_ent_mobile_list=[]\n",
    "\n",
    "\n",
    "\n"
   ]
  },
  {
   "cell_type": "code",
   "execution_count": 151,
   "metadata": {},
   "outputs": [],
   "source": [
    "#load the disconnect blocklist as top level domains\n",
    "f = open('services.json') \n",
    "disconnect = json.load(f) \n",
    "disconnect=disconnect['categories']\n",
    "disconnect_blocklist=[]\n",
    "for entry in disconnect:\n",
    "    domain_list=disconnect[entry]\n",
    "    for item in domain_list:\n",
    "        keys=item.keys()\n",
    "        for key, value in item.items():\n",
    "            for inner_key,inner_value in value.items():\n",
    "                for element in inner_value:\n",
    "                    if len(element)>1:\n",
    "                        disconnect_blocklist.append(element)\n",
    "\n",
    "\n"
   ]
  },
  {
   "cell_type": "code",
   "execution_count": 152,
   "metadata": {},
   "outputs": [],
   "source": [
    "f = open('domain_map.json') \n",
    "domain_map = json.load(f) "
   ]
  },
  {
   "cell_type": "code",
   "execution_count": 153,
   "metadata": {},
   "outputs": [],
   "source": [
    "def get_page_load_time(website):\n",
    "    start_time=website['pageload_start_ts']\n",
    "    end_time=website['pageload_end_ts']\n",
    "    return end_time-start_time"
   ]
  },
  {
   "cell_type": "code",
   "execution_count": 154,
   "metadata": {},
   "outputs": [],
   "source": [
    "def get_num_requests(website):\n",
    "    return len(website['requests'])\n"
   ]
  },
  {
   "cell_type": "code",
   "execution_count": 155,
   "metadata": {},
   "outputs": [],
   "source": [
    "def get_third_parties(website):\n",
    "    third_party_domains=set()\n",
    "    first_domain=website['domain']\n",
    "    for req in website['requests']:\n",
    "        req_domain=get_fld(req['request_url'])\n",
    "        if (req_domain!=first_domain):\n",
    "            third_party_domains.add(req_domain)\n",
    "    third_party_domains=list(third_party_domains)\n",
    "    return third_party_domains"
   ]
  },
  {
   "cell_type": "code",
   "execution_count": 156,
   "metadata": {},
   "outputs": [],
   "source": [
    "def get_tracker_domains(third_party_list):\n",
    "    tracker_domains=set()\n",
    "    for item in third_party_list:\n",
    "        if item in disconnect_blocklist:\n",
    "            tracker_domains.add(item)\n",
    "    tracker_domains_to_list=(list)(tracker_domains)\n",
    "    return tracker_domains_to_list"
   ]
  },
  {
   "cell_type": "code",
   "execution_count": 157,
   "metadata": {},
   "outputs": [],
   "source": [
    "def get_tracker_entity (tracker_name):\n",
    "    if tracker_name in domain_map.keys():\n",
    "        return domain_map[tracker_name]['entityName']\n",
    "    else:\n",
    "        return \"not found\"\n",
    "        "
   ]
  },
  {
   "cell_type": "code",
   "execution_count": 158,
   "metadata": {},
   "outputs": [],
   "source": [
    "urls=[]\n",
    "tranco_rank=[]\n",
    "with open('tranco-top-500-safe.csv') as file:\n",
    "                data = csv.reader(file,delimiter=',')\n",
    "                for url_data in data:\n",
    "                    urls.append(url_data[1])\n",
    "                    tranco_rank.append(url_data[0])\n",
    "urls.remove(\"domain\")\n",
    "tranco_rank.remove(\"tranco_rank\")"
   ]
  },
  {
   "cell_type": "code",
   "execution_count": 159,
   "metadata": {},
   "outputs": [],
   "source": [
    "def get_crawl_data(type):\n",
    "    for entry in urls:\n",
    "        file_name=entry+'_'+type+'.json'\n",
    "        if (os.path.exists(file_name)):\n",
    "            current= open(file_name) \n",
    "            website_dict = json.load(current)\n",
    "            page_load=get_page_load_time(website_dict)\n",
    "            req_count=get_num_requests(website_dict)\n",
    "            third_parties=get_third_parties(website_dict)\n",
    "            tracker_entities=set()\n",
    "            tracker_domains=get_tracker_domains(third_parties)\n",
    "            for tracker in tracker_domains:\n",
    "                tracker_entities.add(get_tracker_entity(tracker))\n",
    "            tracker_entities=list(tracker_entities)\n",
    "            if (type=='desktop'):\n",
    "                page_load_time_desktop.append(page_load)\n",
    "                num_requests_desktop.append(req_count)\n",
    "                for domain in third_parties:\n",
    "                    third_parties_desktop_list.append(domain)\n",
    "                \n",
    "                for t in tracker_domains:\n",
    "                    tracker_domain_desktop_list.append(t)\n",
    "                \n",
    "                for e in tracker_entities:\n",
    "                    tracker_ent_desktop_list.append(e)\n",
    "\n",
    "                num_third_parties_desktop.append(len(third_parties))\n",
    "                num_trackers_domain_desktop.append(len(tracker_domains))\n",
    "                num_trackers_ent_desktop.append(len(tracker_entities))\n",
    "            else: \n",
    "                page_load_time_mobile.append(page_load)\n",
    "                num_requests_mobile.append(req_count)\n",
    "                for domain in third_parties:\n",
    "                    third_parties_mobile_list.append(domain)\n",
    "                \n",
    "                for t in tracker_domains:\n",
    "                    tracker_domain_mobile_list.append(t)\n",
    "                \n",
    "                for e in tracker_entities:\n",
    "                    tracker_ent_mobile_list.append(e)\n",
    "\n",
    "                num_third_parties_mobile.append(len(third_parties))\n",
    "                num_trackers_domain_mobile.append(len(tracker_domains))\n",
    "                num_trackers_ent_mobile.append(len(tracker_entities))\n"
   ]
  },
  {
   "cell_type": "code",
   "execution_count": 160,
   "metadata": {},
   "outputs": [],
   "source": [
    "get_crawl_data(\"desktop\")\n",
    "get_crawl_data(\"mobile\")"
   ]
  },
  {
   "cell_type": "code",
   "execution_count": 161,
   "metadata": {},
   "outputs": [],
   "source": [
    "def generate_box_plot(data_desktop,data_mobile,plot_name):\n",
    "    data= [data_desktop, data_mobile]\n",
    "    label = ['crawl desktop', 'crawl mobile']\n",
    "    fig, (ax1) = plt.subplots(nrows=1, figsize=(9, 4))\n",
    "\n",
    "    bplot = ax1.boxplot(data,\n",
    "                    vert=True,  # vertical box alignment\n",
    "                     patch_artist=True,  # fill with color\n",
    "                     labels=label)  # will be used to label x-ticks\n",
    "    colors = ['pink', 'lightblue']\n",
    "    for patch, color in zip(bplot['boxes'], colors):\n",
    "        patch.set_facecolor(color)\n",
    "\n",
    "    ax1.yaxis.grid(True)\n",
    "    ax1.set_xlabel('type')\n",
    "    ax1.set_ylabel('Observed values')\n",
    "    ax1.set_title(plot_name)\n",
    "\n",
    "    plt.savefig(plot_name+'.jpg')\n",
    "    #plt.show()\n"
   ]
  },
  {
   "cell_type": "code",
   "execution_count": 162,
   "metadata": {},
   "outputs": [
    {
     "data": {
      "image/png": "[encoded data removed]",
      "text/plain": [
       "<Figure size 648x288 with 1 Axes>"
      ]
     },
     "metadata": {
      "needs_background": "light"
     },
     "output_type": "display_data"
    },
    {
     "data": {
      "image/png": "[encoded data removed]",
      "text/plain": [
       "<Figure size 648x288 with 1 Axes>"
      ]
     },
     "metadata": {
      "needs_background": "light"
     },
     "output_type": "display_data"
    },
    {
     "data": {
      "image/png": "[encoded data removed]",
      "text/plain": [
       "<Figure size 648x288 with 1 Axes>"
      ]
     },
     "metadata": {
      "needs_background": "light"
     },
     "output_type": "display_data"
    },
    {
     "data": {
      "image/png": "[encoded data removed]",
      "text/plain": [
       "<Figure size 648x288 with 1 Axes>"
      ]
     },
     "metadata": {
      "needs_background": "light"
     },
     "output_type": "display_data"
    },
    {
     "data": {
      "image/png": "[encoded data removed]",
      "text/plain": [
       "<Figure size 648x288 with 1 Axes>"
      ]
     },
     "metadata": {
      "needs_background": "light"
     },
     "output_type": "display_data"
    }
   ],
   "source": [
    "\n",
    "generate_box_plot(page_load_time_desktop,page_load_time_mobile,\"page_load\")\n",
    "generate_box_plot(num_requests_desktop,num_requests_mobile,\"num_requests\")\n",
    "generate_box_plot(num_third_parties_desktop,num_third_parties_mobile,\"third_parties\")\n",
    "generate_box_plot(num_trackers_domain_desktop,num_trackers_domain_mobile,\"tracker_domains\")\n",
    "generate_box_plot(num_trackers_ent_desktop,num_trackers_ent_mobile,\"tracker_entities\")\n",
    "\n"
   ]
  },
  {
   "cell_type": "code",
   "execution_count": 163,
   "metadata": {},
   "outputs": [],
   "source": [
    "page_load_time_desktop=np.array(page_load_time_desktop)\n",
    "page_load_time_mobile=np.array(page_load_time_mobile)\n",
    "\n",
    "num_requests_desktop=np.array(num_requests_desktop)\n",
    "num_requests_mobile=np.array(num_requests_mobile)\n",
    "\n",
    "num_third_parties_desktop=np.array(num_third_parties_desktop)\n",
    "num_third_parties_mobile=np.array(num_third_parties_mobile)\n",
    "\n",
    "num_trackers_domain_desktop=np.array(num_trackers_domain_desktop)\n",
    "num_trackers_domain_mobile=np.array(num_trackers_domain_mobile)\n",
    "\n",
    "num_trackers_ent_desktop=np.array(num_trackers_ent_desktop)\n",
    "num_trackers_ent_mobile=np.array(num_trackers_ent_mobile)"
   ]
  },
  {
   "cell_type": "code",
   "execution_count": 164,
   "metadata": {},
   "outputs": [],
   "source": [
    "page_load_time_desktop_stats=[np.min(page_load_time_desktop),np.max(page_load_time_desktop),np.median(page_load_time_desktop)]\n",
    "page_load_time_mobile_stats=[np.min(page_load_time_mobile),np.max(page_load_time_mobile),np.median(page_load_time_mobile)]\n",
    "\n",
    "num_requests_desktop_stats=[np.min(num_requests_desktop),np.max(num_requests_desktop),np.median(num_requests_desktop)]\n",
    "num_requests_mobile_stats=[np.min(num_requests_mobile),np.max(num_requests_mobile),np.median(num_requests_mobile)]\n",
    "\n",
    "num_third_parties_desktop_stats=[np.min(num_third_parties_desktop),np.max(num_third_parties_desktop),np.median(num_third_parties_desktop)]\n",
    "num_third_parties_mobile_stats=[np.min(num_third_parties_mobile),np.max(num_third_parties_mobile),np.median(num_third_parties_mobile)]\n",
    "\n",
    "num_trackers_domain_desktop_stats=[np.min(num_trackers_domain_desktop),np.max(num_trackers_domain_desktop),np.median(num_trackers_domain_desktop)]\n",
    "num_trackers_domain_mobile_stats=[np.min(num_trackers_domain_mobile),np.max(num_trackers_domain_mobile),np.median(num_trackers_domain_mobile)]\n",
    "\n",
    "num_trackers_ent_desktop_stats=[np.min(num_trackers_ent_desktop),np.max(num_trackers_ent_desktop),np.median(num_trackers_ent_desktop)]\n",
    "num_trackers_ent_mobile_stats=[np.min(num_trackers_ent_mobile),np.max(num_trackers_ent_mobile),np.median(num_trackers_ent_mobile)]\n"
   ]
  },
  {
   "cell_type": "code",
   "execution_count": 165,
   "metadata": {},
   "outputs": [
    {
     "name": "stdout",
     "output_type": "stream",
     "text": [
      "page load desktop [3.1582789421081543, 9.522655010223389, 5.61898398399353]\n",
      "page load mobile [3.274104118347168, 15.895553827285767, 7.177584886550903]\n",
      "requests desktop [33, 146, 44.0]\n",
      "requests mobile [19, 88, 47.0]\n",
      "third parties desktop [3, 10, 4.0]\n",
      "third parties mobile [2, 8, 4.0]\n",
      "trackers desktop [1, 4, 2.0]\n",
      "trackers mobile [1, 4, 2.0]\n",
      "Tracker entities [1, 2, 1.0]\n",
      "Tracker entities [1, 2, 1.0]\n"
     ]
    }
   ],
   "source": [
    "print(\"page load desktop\",page_load_time_desktop_stats)\n",
    "print(\"page load mobile\",page_load_time_mobile_stats)\n",
    "\n",
    "print(\"requests desktop\",num_requests_desktop_stats)\n",
    "print(\"requests mobile\",num_requests_mobile_stats)\n",
    "\n",
    "print(\"third parties desktop\",num_third_parties_desktop_stats)\n",
    "print(\"third parties mobile\",num_third_parties_mobile_stats)\n",
    "\n",
    "print(\"trackers desktop\",num_trackers_domain_desktop_stats)\n",
    "print(\"trackers mobile\",num_trackers_domain_mobile_stats)\n",
    "\n",
    "print(\"Tracker entities\",num_trackers_ent_desktop_stats)\n",
    "print(\"Tracker entities\",num_trackers_ent_mobile_stats)\n",
    "\n",
    "\n",
    "\n",
    "\n"
   ]
  },
  {
   "cell_type": "code",
   "execution_count": 166,
   "metadata": {},
   "outputs": [],
   "source": [
    "def get_top_elements(domains,num):\n",
    "    domains_count=dict(Counter(domains))\n",
    "    domains_sorted = sorted(domains_count, key=domains_count.get, reverse=True)\n",
    "    i=0\n",
    "    for e in domains_sorted:\n",
    "        print(e,domains_count[e])\n",
    "        i=i+1\n",
    "        if (i==num):\n",
    "            return\n"
   ]
  },
  {
   "cell_type": "code",
   "execution_count": 167,
   "metadata": {},
   "outputs": [
    {
     "name": "stdout",
     "output_type": "stream",
     "text": [
      "*******************top five desktop domains*************\n",
      "optimizationguide-pa.googleapis.com 4\n",
      "google.com 4\n",
      "gstatic.com 2\n",
      "youtube.com 1\n",
      "google.nl 1\n",
      "*******************top five mobile domains**************\n",
      "optimizationguide-pa.googleapis.com 5\n",
      "google.com 4\n",
      "gstatic.com 2\n",
      "ggpht.com 1\n",
      "doubleclick.net 1\n"
     ]
    }
   ],
   "source": [
    "print(\"*******************top five desktop domains*************\")\n",
    "get_top_elements(third_parties_desktop_list,5)\n",
    "print(\"*******************top five mobile domains**************\")\n",
    "get_top_elements(third_parties_mobile_list,5)"
   ]
  },
  {
   "cell_type": "code",
   "execution_count": 168,
   "metadata": {},
   "outputs": [
    {
     "name": "stdout",
     "output_type": "stream",
     "text": [
      "*******************top five desktop trackers*************\n",
      "google.com 4\n",
      "gstatic.com 2\n",
      "youtube.com 1\n",
      "google.nl 1\n",
      "doubleclick.net 1\n",
      "ggpht.com 1\n",
      "fbcdn.net 1\n",
      "live.com 1\n",
      "*******************top five mobile trackers**************\n",
      "google.com 4\n",
      "gstatic.com 2\n",
      "doubleclick.net 1\n",
      "ggpht.com 1\n",
      "fbcdn.net 1\n",
      "fbsbx.com 1\n",
      "live.com 1\n"
     ]
    }
   ],
   "source": [
    "print(\"*******************top five desktop trackers*************\")\n",
    "get_top_elements(tracker_domain_desktop_list,10)\n",
    "print(\"*******************top five mobile trackers**************\")\n",
    "get_top_elements(tracker_domain_mobile_list,10)"
   ]
  },
  {
   "cell_type": "code",
   "execution_count": 169,
   "metadata": {},
   "outputs": [
    {
     "name": "stdout",
     "output_type": "stream",
     "text": [
      "*******************top five desktop entities*************\n",
      "Google LLC 5\n",
      "Facebook, Inc. 1\n",
      "Microsoft Corporation 1\n",
      "*******************top five mobile entities**************\n",
      "Google LLC 5\n",
      "Facebook, Inc. 1\n",
      "Microsoft Corporation 1\n"
     ]
    }
   ],
   "source": [
    "print(\"*******************top five desktop entities*************\")\n",
    "get_top_elements(tracker_ent_desktop_list,5)\n",
    "print(\"*******************top five mobile entities**************\")\n",
    "get_top_elements(tracker_ent_mobile_list,5)"
   ]
  }
 ],
 "metadata": {
  "interpreter": {
   "hash": "fafde9fe5c2a95c272e146e5cd6a6202b646782439a48b665d8c179bb5a43069"
  },
  "kernelspec": {
   "display_name": "Python 3.8.8 ('base')",
   "language": "python",
   "name": "python3"
  },
  "language_info": {
   "codemirror_mode": {
    "name": "ipython",
    "version": 3
   },
   "file_extension": ".py",
   "mimetype": "text/x-python",
   "name": "python",
   "nbconvert_exporter": "python",
   "pygments_lexer": "ipython3",
   "version": "3.8.8"
  },
  "orig_nbformat": 4
 },
 "nbformat": 4,
 "nbformat_minor": 2
}
